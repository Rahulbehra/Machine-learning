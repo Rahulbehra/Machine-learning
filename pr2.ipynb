{
 "cells": [
  {
   "cell_type": "code",
   "execution_count": 317,
   "metadata": {},
   "outputs": [],
   "source": [
    "import numpy as np\n",
    "np.random.seed(1)\n",
    "x_1 = np.absolute(np.random.randn(100, 1) * 10)\n",
    "y = 2*x_1**2 + 3*x_1 + 2 + np.random.randn(100, 1)*20"
   ]
  },
  {
   "cell_type": "code",
   "execution_count": 318,
   "metadata": {},
   "outputs": [
    {
     "data": {
      "text/plain": [
       "[<matplotlib.lines.Line2D at 0x176a31716d0>]"
      ]
     },
     "execution_count": 318,
     "metadata": {},
     "output_type": "execute_result"
    },
    {
     "data": {
      "image/png": "[encoded data removed]",
      "text/plain": [
       "<Figure size 640x480 with 1 Axes>"
      ]
     },
     "metadata": {},
     "output_type": "display_data"
    }
   ],
   "source": [
    "import matplotlib.pyplot as plt\n",
    "plt.plot(x_1,y,'+',color='red')"
   ]
  },
  {
   "cell_type": "code",
   "execution_count": 319,
   "metadata": {},
   "outputs": [
    {
     "data": {
      "text/html": [
       "<div>\n",
       "<style scoped>\n",
       "    .dataframe tbody tr th:only-of-type {\n",
       "        vertical-align: middle;\n",
       "    }\n",
       "\n",
       "    .dataframe tbody tr th {\n",
       "        vertical-align: top;\n",
       "    }\n",
       "\n",
       "    .dataframe thead th {\n",
       "        text-align: right;\n",
       "    }\n",
       "</style>\n",
       "<table border=\"1\" class=\"dataframe\">\n",
       "  <thead>\n",
       "    <tr style=\"text-align: right;\">\n",
       "      <th></th>\n",
       "      <th>feature</th>\n",
       "      <th>target</th>\n",
       "    </tr>\n",
       "  </thead>\n",
       "  <tbody>\n",
       "    <tr>\n",
       "      <th>0</th>\n",
       "      <td>16.243454</td>\n",
       "      <td>569.487362</td>\n",
       "    </tr>\n",
       "    <tr>\n",
       "      <th>1</th>\n",
       "      <td>6.117564</td>\n",
       "      <td>119.692028</td>\n",
       "    </tr>\n",
       "    <tr>\n",
       "      <th>2</th>\n",
       "      <td>5.281718</td>\n",
       "      <td>81.708065</td>\n",
       "    </tr>\n",
       "    <tr>\n",
       "      <th>3</th>\n",
       "      <td>10.729686</td>\n",
       "      <td>276.312962</td>\n",
       "    </tr>\n",
       "    <tr>\n",
       "      <th>4</th>\n",
       "      <td>8.654076</td>\n",
       "      <td>155.850065</td>\n",
       "    </tr>\n",
       "    <tr>\n",
       "      <th>...</th>\n",
       "      <td>...</td>\n",
       "      <td>...</td>\n",
       "    </tr>\n",
       "    <tr>\n",
       "      <th>95</th>\n",
       "      <td>0.773401</td>\n",
       "      <td>-27.032268</td>\n",
       "    </tr>\n",
       "    <tr>\n",
       "      <th>96</th>\n",
       "      <td>3.438537</td>\n",
       "      <td>48.009066</td>\n",
       "    </tr>\n",
       "    <tr>\n",
       "      <th>97</th>\n",
       "      <td>0.435969</td>\n",
       "      <td>12.093687</td>\n",
       "    </tr>\n",
       "    <tr>\n",
       "      <th>98</th>\n",
       "      <td>6.200008</td>\n",
       "      <td>113.699268</td>\n",
       "    </tr>\n",
       "    <tr>\n",
       "      <th>99</th>\n",
       "      <td>6.980320</td>\n",
       "      <td>141.279547</td>\n",
       "    </tr>\n",
       "  </tbody>\n",
       "</table>\n",
       "<p>100 rows × 2 columns</p>\n",
       "</div>"
      ],
      "text/plain": [
       "      feature      target\n",
       "0   16.243454  569.487362\n",
       "1    6.117564  119.692028\n",
       "2    5.281718   81.708065\n",
       "3   10.729686  276.312962\n",
       "4    8.654076  155.850065\n",
       "..        ...         ...\n",
       "95   0.773401  -27.032268\n",
       "96   3.438537   48.009066\n",
       "97   0.435969   12.093687\n",
       "98   6.200008  113.699268\n",
       "99   6.980320  141.279547\n",
       "\n",
       "[100 rows x 2 columns]"
      ]
     },
     "execution_count": 319,
     "metadata": {},
     "output_type": "execute_result"
    }
   ],
   "source": [
    "import pandas as pd\n",
    "data=pd.DataFrame({'feature':x_1.reshape(-1),'target':y.reshape(-1)})\n",
    "data"
   ]
  },
  {
   "cell_type": "code",
   "execution_count": 320,
   "metadata": {},
   "outputs": [
    {
     "name": "stdout",
     "output_type": "stream",
     "text": [
      "(100, 1)\n"
     ]
    },
    {
     "data": {
      "text/plain": [
       "(100, 1)"
      ]
     },
     "execution_count": 320,
     "metadata": {},
     "output_type": "execute_result"
    }
   ],
   "source": [
    "x=data[['feature']].values\n",
    "y=data[['target']].values\n",
    "print(x.shape)\n",
    "y.shape"
   ]
  },
  {
   "cell_type": "code",
   "execution_count": 321,
   "metadata": {},
   "outputs": [
    {
     "data": {
      "text/html": [
       "<style>#sk-container-id-29 {color: black;background-color: white;}#sk-container-id-29 pre{padding: 0;}#sk-container-id-29 div.sk-toggleable {background-color: white;}#sk-container-id-29 label.sk-toggleable__label {cursor: pointer;display: block;width: 100%;margin-bottom: 0;padding: 0.3em;box-sizing: border-box;text-align: center;}#sk-container-id-29 label.sk-toggleable__label-arrow:before {content: \"▸\";float: left;margin-right: 0.25em;color: #696969;}#sk-container-id-29 label.sk-toggleable__label-arrow:hover:before {color: black;}#sk-container-id-29 div.sk-estimator:hover label.sk-toggleable__label-arrow:before {color: black;}#sk-container-id-29 div.sk-toggleable__content {max-height: 0;max-width: 0;overflow: hidden;text-align: left;background-color: #f0f8ff;}#sk-container-id-29 div.sk-toggleable__content pre {margin: 0.2em;color: black;border-radius: 0.25em;background-color: #f0f8ff;}#sk-container-id-29 input.sk-toggleable__control:checked~div.sk-toggleable__content {max-height: 200px;max-width: 100%;overflow: auto;}#sk-container-id-29 input.sk-toggleable__control:checked~label.sk-toggleable__label-arrow:before {content: \"▾\";}#sk-container-id-29 div.sk-estimator input.sk-toggleable__control:checked~label.sk-toggleable__label {background-color: #d4ebff;}#sk-container-id-29 div.sk-label input.sk-toggleable__control:checked~label.sk-toggleable__label {background-color: #d4ebff;}#sk-container-id-29 input.sk-hidden--visually {border: 0;clip: rect(1px 1px 1px 1px);clip: rect(1px, 1px, 1px, 1px);height: 1px;margin: -1px;overflow: hidden;padding: 0;position: absolute;width: 1px;}#sk-container-id-29 div.sk-estimator {font-family: monospace;background-color: #f0f8ff;border: 1px dotted black;border-radius: 0.25em;box-sizing: border-box;margin-bottom: 0.5em;}#sk-container-id-29 div.sk-estimator:hover {background-color: #d4ebff;}#sk-container-id-29 div.sk-parallel-item::after {content: \"\";width: 100%;border-bottom: 1px solid gray;flex-grow: 1;}#sk-container-id-29 div.sk-label:hover label.sk-toggleable__label {background-color: #d4ebff;}#sk-container-id-29 div.sk-serial::before {content: \"\";position: absolute;border-left: 1px solid gray;box-sizing: border-box;top: 0;bottom: 0;left: 50%;z-index: 0;}#sk-container-id-29 div.sk-serial {display: flex;flex-direction: column;align-items: center;background-color: white;padding-right: 0.2em;padding-left: 0.2em;position: relative;}#sk-container-id-29 div.sk-item {position: relative;z-index: 1;}#sk-container-id-29 div.sk-parallel {display: flex;align-items: stretch;justify-content: center;background-color: white;position: relative;}#sk-container-id-29 div.sk-item::before, #sk-container-id-29 div.sk-parallel-item::before {content: \"\";position: absolute;border-left: 1px solid gray;box-sizing: border-box;top: 0;bottom: 0;left: 50%;z-index: -1;}#sk-container-id-29 div.sk-parallel-item {display: flex;flex-direction: column;z-index: 1;position: relative;background-color: white;}#sk-container-id-29 div.sk-parallel-item:first-child::after {align-self: flex-end;width: 50%;}#sk-container-id-29 div.sk-parallel-item:last-child::after {align-self: flex-start;width: 50%;}#sk-container-id-29 div.sk-parallel-item:only-child::after {width: 0;}#sk-container-id-29 div.sk-dashed-wrapped {border: 1px dashed gray;margin: 0 0.4em 0.5em 0.4em;box-sizing: border-box;padding-bottom: 0.4em;background-color: white;}#sk-container-id-29 div.sk-label label {font-family: monospace;font-weight: bold;display: inline-block;line-height: 1.2em;}#sk-container-id-29 div.sk-label-container {text-align: center;}#sk-container-id-29 div.sk-container {/* jupyter's `normalize.less` sets `[hidden] { display: none; }` but bootstrap.min.css set `[hidden] { display: none !important; }` so we also need the `!important` here to be able to override the default hidden behavior on the sphinx rendered scikit-learn.org. See: https://github.com/scikit-learn/scikit-learn/issues/21755 */display: inline-block !important;position: relative;}#sk-container-id-29 div.sk-text-repr-fallback {display: none;}</style><div id=\"sk-container-id-29\" class=\"sk-top-container\"><div class=\"sk-text-repr-fallback\"><pre>LinearRegression()</pre><b>In a Jupyter environment, please rerun this cell to show the HTML representation or trust the notebook. <br />On GitHub, the HTML representation is unable to render, please try loading this page with nbviewer.org.</b></div><div class=\"sk-container\" hidden><div class=\"sk-item\"><div class=\"sk-estimator sk-toggleable\"><input class=\"sk-toggleable__control sk-hidden--visually\" id=\"sk-estimator-id-29\" type=\"checkbox\" checked><label for=\"sk-estimator-id-29\" class=\"sk-toggleable__label sk-toggleable__label-arrow\">LinearRegression</label><div class=\"sk-toggleable__content\"><pre>LinearRegression()</pre></div></div></div></div></div>"
      ],
      "text/plain": [
       "LinearRegression()"
      ]
     },
     "execution_count": 321,
     "metadata": {},
     "output_type": "execute_result"
    }
   ],
   "source": [
    "from sklearn.linear_model import LinearRegression\n",
    "from sklearn.preprocessing import PolynomialFeatures\n",
    "from sklearn.model_selection import train_test_split\n",
    "x_train,x_test,y_train,y_test=train_test_split(x,y,test_size=0.3,random_state=1)\n",
    "pf=PolynomialFeatures(degree=10)\n",
    "p_x_train=pf.fit_transform(x_train)\n",
    "p_x_test=pf.fit_transform(x_test)\n",
    "lr=LinearRegression()\n",
    "lr.fit(p_x_train,y_train)"
   ]
  },
  {
   "cell_type": "code",
   "execution_count": 322,
   "metadata": {},
   "outputs": [
    {
     "data": {
      "text/plain": [
       "array([[ 0.00000000e+00,  1.64861825e+02, -1.75817706e+02,\n",
       "         8.81395749e+01, -2.33472026e+01,  3.64117133e+00,\n",
       "        -3.51142212e-01,  2.11905698e-02, -7.79064035e-04,\n",
       "         1.59526273e-05, -1.39444866e-07]])"
      ]
     },
     "execution_count": 322,
     "metadata": {},
     "output_type": "execute_result"
    }
   ],
   "source": [
    "lr.coef_"
   ]
  },
  {
   "cell_type": "code",
   "execution_count": 323,
   "metadata": {},
   "outputs": [
    {
     "data": {
      "text/plain": [
       "array([[1.00000000e+00, 2.22328143e+00, 4.94298030e+00, 1.09896363e+01,\n",
       "        2.44330542e+01, 5.43215557e+01, 1.20772106e+02, 2.68510380e+02,\n",
       "        5.96974140e+02, 1.32724152e+03, 2.95083141e+03],\n",
       "       [1.00000000e+00, 1.98299720e+00, 3.93227790e+00, 7.79769607e+00,\n",
       "        1.54628095e+01, 3.06627079e+01, 6.08040640e+01, 1.20574289e+02,\n",
       "        2.39098477e+02, 4.74131611e+02, 9.40201658e+02],\n",
       "       [1.00000000e+00, 8.45205641e+00, 7.14372576e+01, 6.03791732e+02,\n",
       "        5.10328178e+03, 4.31332255e+04, 3.64564455e+05, 3.08131934e+06,\n",
       "        2.60434849e+07, 2.20121004e+08, 1.86047514e+09],\n",
       "       [1.00000000e+00, 2.00758069e+00, 4.03038022e+00, 8.09131351e+00,\n",
       "        1.62439648e+01, 3.26110700e+01, 6.54693543e+01, 1.31435011e+02,\n",
       "        2.63866391e+02, 5.29733071e+02, 1.06348188e+03],\n",
       "       [1.00000000e+00, 6.38730407e+00, 4.07976533e+01, 2.60587017e+02,\n",
       "        1.66444852e+03, 1.06313388e+04, 6.79055936e+04, 4.33733675e+05,\n",
       "        2.77038887e+06, 1.76953161e+07, 1.13025365e+08],\n",
       "       [1.00000000e+00, 8.77858418e+00, 7.70635402e+01, 6.76508775e+02,\n",
       "        5.93878923e+03, 5.21341612e+04, 4.57664122e+05, 4.01764302e+06,\n",
       "        3.52692175e+07, 3.09613795e+08, 2.71797076e+09],\n",
       "       [1.00000000e+00, 1.11731035e+01, 1.24838242e+02, 1.39483059e+03,\n",
       "        1.55845865e+04, 1.74128198e+05, 1.94555238e+06, 2.17378581e+07,\n",
       "        2.42879338e+08, 2.71371598e+09, 3.03206294e+10],\n",
       "       [1.00000000e+00, 1.86561391e+00, 3.48051526e+00, 6.49329768e+00,\n",
       "        1.21139865e+01, 2.26000217e+01, 4.21629148e+01, 7.86597204e+01,\n",
       "        1.46748668e+02, 2.73776357e+02, 5.10760980e+02],\n",
       "       [1.00000000e+00, 1.39649634e+01, 1.95020202e+02, 2.72344997e+03,\n",
       "        3.80328790e+04, 5.31127761e+05, 7.41717973e+06, 1.03580643e+08,\n",
       "        1.44649988e+09, 2.02003179e+10, 2.82096699e+11],\n",
       "       [1.00000000e+00, 7.55717130e-01, 5.71108381e-01, 4.31596387e-01,\n",
       "        3.26164783e-01, 2.46488314e-01, 1.86275441e-01, 1.40771542e-01,\n",
       "        1.06383465e-01, 8.03958072e-02, 6.07564887e-02],\n",
       "       [1.00000000e+00, 3.75284950e+00, 1.40838794e+01, 5.28546797e+01,\n",
       "        1.98355658e+02, 7.44398933e+02, 2.79361716e+03, 1.04840248e+04,\n",
       "        3.93449672e+04, 1.47655740e+05, 5.54129772e+05],\n",
       "       [1.00000000e+00, 7.42044161e+00, 5.50629536e+01, 4.08591432e+02,\n",
       "        3.03192886e+03, 2.24982511e+04, 1.66946958e+05, 1.23882016e+06,\n",
       "        9.19259262e+06, 6.82130968e+07, 5.06171301e+08],\n",
       "       [1.00000000e+00, 8.38983414e+00, 7.03893169e+01, 5.90554694e+02,\n",
       "        4.95465593e+03, 4.15687415e+04, 3.48754846e+05, 2.92599532e+06,\n",
       "        2.45486154e+07, 2.05958811e+08, 1.72796027e+09],\n",
       "       [1.00000000e+00, 1.14251820e+01, 1.30534783e+02, 1.49138365e+03,\n",
       "        1.70393296e+04, 1.94677442e+05, 2.22422520e+06, 2.54121777e+07,\n",
       "        2.90338755e+08, 3.31717311e+09, 3.78993064e+10],\n",
       "       [1.00000000e+00, 3.52249846e+00, 1.24079954e+01, 4.37071449e+01,\n",
       "        1.53958351e+02, 5.42318054e+02, 1.91031451e+03, 6.72907994e+03,\n",
       "        2.37031738e+04, 8.34943932e+04, 2.94108872e+05],\n",
       "       [1.00000000e+00, 6.87172700e+00, 4.72206320e+01, 3.24487292e+02,\n",
       "        2.22978808e+03, 1.53224950e+04, 1.05292003e+05, 7.23537897e+05,\n",
       "        4.97195490e+06, 3.41659167e+07, 2.34778853e+08],\n",
       "       [1.00000000e+00, 3.96753527e+00, 1.57413361e+01, 6.24543062e+01,\n",
       "        2.47789662e+02, 9.83114225e+02, 3.90054036e+03, 1.54755314e+04,\n",
       "        6.13997168e+04, 2.43605542e+05, 9.66513579e+05],\n",
       "       [1.00000000e+00, 5.08077548e-01, 2.58142795e-01, 1.31156558e-01,\n",
       "        6.66377024e-02, 3.38571204e-02, 1.72020427e-02, 8.73997168e-03,\n",
       "        4.44058338e-03, 2.25616071e-03, 1.14630460e-03],\n",
       "       [1.00000000e+00, 2.30094735e+00, 5.29435872e+00, 1.21820407e+01,\n",
       "        2.80302343e+01, 6.44960934e+01, 1.48402116e+02, 3.41465455e+02,\n",
       "        7.85694035e+02, 1.80784061e+03, 4.15974607e+03],\n",
       "       [1.00000000e+00, 1.46210794e+01, 2.13775962e+02, 3.12563531e+03,\n",
       "        4.57001619e+04, 6.68185695e+05, 9.76959607e+06, 1.42842040e+08,\n",
       "        2.08850480e+09, 3.05361944e+10, 4.46472122e+11],\n",
       "       [1.00000000e+00, 5.28171752e+00, 2.78965400e+01, 1.47341644e+02,\n",
       "        7.78216943e+02, 4.11032207e+03, 2.17095601e+04, 1.14663764e+05,\n",
       "        6.05621611e+05, 3.19872227e+06, 1.68947475e+07],\n",
       "       [1.00000000e+00, 8.76168921e+00, 7.67671978e+01, 6.72610329e+02,\n",
       "        5.89320266e+03, 5.16344102e+04, 4.52404655e+05, 3.96382898e+06,\n",
       "        3.47298376e+07, 3.04292044e+08, 2.66611232e+09],\n",
       "       [1.00000000e+00, 4.35968568e-01, 1.90068593e-01, 8.28639322e-02,\n",
       "        3.61260699e-02, 1.57498310e-02, 6.86643126e-03, 2.99354821e-03,\n",
       "        1.30509293e-03, 5.68979494e-04, 2.48057176e-04],\n",
       "       [1.00000000e+00, 5.12929820e+00, 2.63097001e+01, 1.34950297e+02,\n",
       "        6.92200318e+02, 3.55050185e+03, 1.82115827e+04, 9.34126387e+04,\n",
       "        4.79141280e+05, 2.45765851e+06, 1.26060634e+07],\n",
       "       [1.00000000e+00, 5.82815214e+00, 3.39673573e+01, 1.97966926e+02,\n",
       "        1.15378136e+03, 6.72441332e+03, 3.91909039e+04, 2.28410550e+05,\n",
       "        1.33121144e+06, 7.75850278e+06, 4.52177345e+07],\n",
       "       [1.00000000e+00, 1.26645989e-01, 1.60392066e-02, 2.03130118e-03,\n",
       "        2.57256148e-04, 3.25804593e-05, 4.12618450e-06, 5.22564717e-07,\n",
       "        6.61807255e-08, 8.38152345e-09, 1.06148633e-09],\n",
       "       [1.00000000e+00, 4.23494354e+00, 1.79347468e+01, 7.59526401e+01,\n",
       "        3.21655143e+02, 1.36219137e+03, 5.76880354e+03, 2.44305573e+04,\n",
       "        1.03462031e+05, 4.38155859e+05, 1.85556532e+06],\n",
       "       [1.00000000e+00, 9.35769434e+00, 8.75664434e+01, 8.19420012e+02,\n",
       "        7.66788201e+03, 7.17536961e+04, 6.71449156e+05, 6.28321597e+06,\n",
       "        5.87964145e+07, 5.50198876e+08, 5.14859291e+09],\n",
       "       [1.00000000e+00, 1.90915485e+00, 3.64487223e+00, 6.95862548e+00,\n",
       "        1.32850936e+01, 2.53633008e+01, 4.84224686e+01, 9.24459906e+01,\n",
       "        1.76493711e+02, 3.36953824e+02, 6.43297026e+02],\n",
       "       [1.00000000e+00, 1.65980218e+01, 2.75494327e+02, 4.57266083e+03,\n",
       "        7.58971241e+04, 1.25974212e+06, 2.09092271e+07, 3.47051806e+08,\n",
       "        5.76037344e+09, 9.56108038e+10, 1.58695020e+12]])"
      ]
     },
     "execution_count": 323,
     "metadata": {},
     "output_type": "execute_result"
    }
   ],
   "source": [
    "lr.intercept_\n",
    "p_x_test"
   ]
  },
  {
   "cell_type": "code",
   "execution_count": 324,
   "metadata": {},
   "outputs": [],
   "source": [
    "from sklearn.metrics import r2_score,mean_absolute_error,mean_squared_error,accuracy_score\n",
    "pred=lr.predict(p_x_test)\n",
    "r2_score(y_test,pred)\n",
    "x_test=x_test.reshape(-1)\n",
    "y_test=y_test.reshape(-1)"
   ]
  },
  {
   "cell_type": "code",
   "execution_count": 325,
   "metadata": {},
   "outputs": [
    {
     "name": "stdout",
     "output_type": "stream",
     "text": [
      "(30,)\n",
      "(165, 1)\n"
     ]
    },
    {
     "data": {
      "image/png": "[encoded data removed]",
      "text/plain": [
       "<Figure size 640x480 with 1 Axes>"
      ]
     },
     "metadata": {},
     "output_type": "display_data"
    }
   ],
   "source": [
    "X_grid = np.arange(min(x_test),max(x_test),0.1)\n",
    "X_grid = X_grid.reshape(len(X_grid),1) \n",
    "plt.plot(x_test,y_test,'+',label='value')\n",
    "plt.plot(X_grid,lr.predict(pf.fit_transform(X_grid)),label='predicted value')\n",
    "plt.legend()\n",
    "print(x_test.shape)\n",
    "print(X_grid.shape)"
   ]
  },
  {
   "cell_type": "code",
   "execution_count": null,
   "metadata": {},
   "outputs": [],
   "source": []
  }
 ],
 "metadata": {
  "kernelspec": {
   "display_name": "Python 3",
   "language": "python",
   "name": "python3"
  },
  "language_info": {
   "codemirror_mode": {
    "name": "ipython",
    "version": 3
   },
   "file_extension": ".py",
   "mimetype": "text/x-python",
   "name": "python",
   "nbconvert_exporter": "python",
   "pygments_lexer": "ipython3",
   "version": "3.11.3"
  },
  "orig_nbformat": 4
 },
 "nbformat": 4,
 "nbformat_minor": 2
}
