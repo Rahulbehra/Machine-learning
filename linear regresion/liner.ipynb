{
 "cells": [
  {
   "cell_type": "code",
   "execution_count": null,
   "metadata": {},
   "outputs": [],
   "source": [
    "import numpy as np\n",
    "import matplotlib.pyplot as py\n",
    "import pandas as pd"
   ]
  },
  {
   "cell_type": "code",
   "execution_count": null,
   "metadata": {},
   "outputs": [],
   "source": [
    "data=pd.read_csv('mydata.csv')\n",
    "data=data.dropna()\n",
    "input_train=np.array(data.x[:500]).reshape(500,1)\n",
    "output_train=np.array(data.y[:500]).reshape(500,1)\n",
    "input_test=np.array(data.x[500:]).reshape(199,1)\n",
    "output_test=np.array(data.y[500:]).reshape(199,1)"
   ]
  },
  {
   "cell_type": "code",
   "execution_count": null,
   "metadata": {},
   "outputs": [],
   "source": [
    "class Linear:\n",
    "    def __init__(self):\n",
    "        self.parameter={}\n",
    "\n",
    "    def forwar(self,input_train):\n",
    "        m=self.parameter['m']\n",
    "        c=self.parameter['c']\n",
    "        prediction=np.multiply(m,input_train)+c\n",
    "        return prediction\n",
    "    \n",
    "    def cost_i(self,output_train,prediction):\n",
    "        cost=np.mean((output_train-prediction)**2)\n",
    "        return cost\n",
    "    \n",
    "    def equestion(self,input_train,output_train,prediction):\n",
    "        equ={}\n",
    "        df=(output_train-prediction)*-1\n",
    "        dm=np.mean(np.multiply(input_train,df))\n",
    "        dc=np.mean(df)\n",
    "        equ['dm']=dm\n",
    "        equ['dc']=dc\n",
    "        return equ\n",
    "    \n",
    "    def update(self,learning,equ):\n",
    "        self.parameter['m']=self.parameter['m']-learning*equ['dm']\n",
    "        self.parameter['c']=self.parameter['m']-learning*equ['dc']\n",
    "\n",
    "    def train(self,input_train,output_train,learning,iters):\n",
    "        self.parameter['c']=np.random.uniform(0,1)*-1\n",
    "        self.parameter['m']=np.random.uniform(0,1)*-1\n",
    "        self.loss=[]\n",
    "        for i in range(iters):\n",
    "            prediction=self.forwar(input_train)\n",
    "\n",
    "            cost=self.cost_i(output_train,prediction)\n",
    "\n",
    "            self.loss.append(cost)\n",
    "            print(f'{i+1} itration {cost}')\n",
    "\n",
    "            equ=self.equestion(input_train,output_train,prediction)\n",
    "            self.update(learning,equ)\n",
    "        return self.parameter,self.loss\n"
   ]
  },
  {
   "cell_type": "code",
   "execution_count": null,
   "metadata": {},
   "outputs": [],
   "source": [
    "myone=Linear()\n",
    "parameter,loss=myone.train(input_train,output_train,0.0001,20)\n",
    "print(parameter)\n"
   ]
  },
  {
   "cell_type": "code",
   "execution_count": null,
   "metadata": {},
   "outputs": [],
   "source": [
    "y_data=(input_test*parameter['m']+parameter['c'])\n",
    "py.plot(input_test,y_data,label=\"predicit value\")\n",
    "py.plot(input_test,output_test,'+',label=\"actual value\")\n",
    "py.xlabel('input data')\n",
    "py.ylabel('output data and predict value')\n",
    "py.legend()\n",
    "py.show()"
   ]
  },
  {
   "cell_type": "code",
   "execution_count": null,
   "metadata": {},
   "outputs": [],
   "source": [
    "import numpy as np\n",
    "num1=np.array([[1,1,1,1],[1,2,3,4],[4,5,8,2]])\n",
    "num2=np.array([[1,1,4],[1,2,5],[1,3,8],[1,4,2]])\n",
    "ans=np.array([1,6,8,12])\n",
    "y=num1.dot(num2)\n",
    "t=np.linalg.inv(y)\n",
    "#print(t)\n",
    "new=t.dot(num1)\n",
    "print(new.dot(ans))\n",
    "#print(np.multiply(new,ans))\n",
    "print(np.transpose(num1))"
   ]
  }
 ],
 "metadata": {
  "kernelspec": {
   "display_name": "Python 3",
   "language": "python",
   "name": "python3"
  },
  "language_info": {
   "codemirror_mode": {
    "name": "ipython",
    "version": 3
   },
   "file_extension": ".py",
   "mimetype": "text/x-python",
   "name": "python",
   "nbconvert_exporter": "python",
   "pygments_lexer": "ipython3",
   "version": "3.11.3"
  },
  "orig_nbformat": 4
 },
 "nbformat": 4,
 "nbformat_minor": 2
}
